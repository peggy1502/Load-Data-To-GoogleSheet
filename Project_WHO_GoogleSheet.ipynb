{
 "cells": [
  {
   "cell_type": "markdown",
   "metadata": {},
   "source": [
    "# Loading COVID-19 Data to Google Sheet\n",
    "---\n",
    "\n",
    "In this project, we read COVID-19 coronavirus data available from [World Health Organization](https://covid19.who.int/) and load it into Google Sheet, where this is one of the data sources used for a [data visualisation work](https://public.tableau.com/profile/peggy.chang#!/vizhome/COVID-19Updates_16082983614350/S1) created for COVID-19 updates on **Tableau Public**.\n",
    "\n",
    "![Tableau](Tableau.png)\n",
    "\n",
    "\n",
    "\n",
    "**Tool:**\n",
    "\n",
    "To load COVID-19 data onto Google Sheet, we use [`pygsheets`](https://pygsheets.readthedocs.io/en/latest/) written by [Nithin Murali](https://github.com/nithinmurali/pygsheets). This is a simple, intuitive Python library to access Google spreadsheets through the Google Sheets API v4.\n",
    "\n",
    "Although we can use the `importData()` function in Google Sheet itself to obtain data directly from a URL, there are some limitations and it would not work for large datasets.\n",
    "\n",
    "\n",
    "**Pre-requisite:**\n",
    "\n",
    "Before running the codes below, we first need to go to [Google Developer Console](https://console.developers.google.com/) to enable the Google Drive API, create a service account and download the private key in a JSON file for account authorization.\n",
    "\n",
    "We will also need to share the specific Google Sheet with the service account email address."
   ]
  },
  {
   "cell_type": "code",
   "execution_count": 1,
   "metadata": {},
   "outputs": [],
   "source": [
    "import pygsheets\n",
    "import pandas as pd\n",
    "import datetime as dt\n",
    "\n",
    "### Authorizing pygsheets.\n",
    "\n",
    "gc = pygsheets.authorize(service_file='client_secret.json')"
   ]
  },
  {
   "cell_type": "code",
   "execution_count": 2,
   "metadata": {},
   "outputs": [],
   "source": [
    "### Open an existing Google Sheet by key and clear its content.\n",
    "\n",
    "sh = gc.open_by_key('1exEhfjPgGzXupYIkkTw36Jxpslf9pbwEiGsxw1xyujw') # WHO_Covid19_GS\n",
    "\n",
    "wks = sh.worksheet(property='index', value=0)   # value=0 means first tab\n",
    "\n",
    "wks.clear()"
   ]
  },
  {
   "cell_type": "code",
   "execution_count": 3,
   "metadata": {},
   "outputs": [
    {
     "data": {
      "text/plain": [
       "(97345, 8)"
      ]
     },
     "execution_count": 3,
     "metadata": {},
     "output_type": "execute_result"
    }
   ],
   "source": [
    "### Get source data from WHO website.\n",
    "\n",
    "url = \"https://covid19.who.int/WHO-COVID-19-global-data.csv\"\n",
    "\n",
    "df = pd.read_csv(url, parse_dates=['Date_reported'])\n",
    "\n",
    "### Check the number of rows and columns.\n",
    "\n",
    "df.shape"
   ]
  },
  {
   "cell_type": "code",
   "execution_count": 4,
   "metadata": {
    "scrolled": true
   },
   "outputs": [
    {
     "data": {
      "text/html": [
       "<div>\n",
       "<style scoped>\n",
       "    .dataframe tbody tr th:only-of-type {\n",
       "        vertical-align: middle;\n",
       "    }\n",
       "\n",
       "    .dataframe tbody tr th {\n",
       "        vertical-align: top;\n",
       "    }\n",
       "\n",
       "    .dataframe thead th {\n",
       "        text-align: right;\n",
       "    }\n",
       "</style>\n",
       "<table border=\"1\" class=\"dataframe\">\n",
       "  <thead>\n",
       "    <tr style=\"text-align: right;\">\n",
       "      <th></th>\n",
       "      <th>New_cases</th>\n",
       "      <th>Cumulative_cases</th>\n",
       "      <th>New_deaths</th>\n",
       "      <th>Cumulative_deaths</th>\n",
       "    </tr>\n",
       "  </thead>\n",
       "  <tbody>\n",
       "    <tr>\n",
       "      <td>count</td>\n",
       "      <td>97345.000000</td>\n",
       "      <td>9.734500e+04</td>\n",
       "      <td>97345.000000</td>\n",
       "      <td>97345.000000</td>\n",
       "    </tr>\n",
       "    <tr>\n",
       "      <td>mean</td>\n",
       "      <td>1116.490246</td>\n",
       "      <td>1.244781e+05</td>\n",
       "      <td>24.645364</td>\n",
       "      <td>3279.255740</td>\n",
       "    </tr>\n",
       "    <tr>\n",
       "      <td>std</td>\n",
       "      <td>7519.576166</td>\n",
       "      <td>8.542595e+05</td>\n",
       "      <td>142.643087</td>\n",
       "      <td>18246.997859</td>\n",
       "    </tr>\n",
       "    <tr>\n",
       "      <td>min</td>\n",
       "      <td>-32952.000000</td>\n",
       "      <td>0.000000e+00</td>\n",
       "      <td>-514.000000</td>\n",
       "      <td>0.000000</td>\n",
       "    </tr>\n",
       "    <tr>\n",
       "      <td>25%</td>\n",
       "      <td>0.000000</td>\n",
       "      <td>6.000000e+00</td>\n",
       "      <td>0.000000</td>\n",
       "      <td>0.000000</td>\n",
       "    </tr>\n",
       "    <tr>\n",
       "      <td>50%</td>\n",
       "      <td>3.000000</td>\n",
       "      <td>9.000000e+02</td>\n",
       "      <td>0.000000</td>\n",
       "      <td>15.000000</td>\n",
       "    </tr>\n",
       "    <tr>\n",
       "      <td>75%</td>\n",
       "      <td>176.000000</td>\n",
       "      <td>1.758700e+04</td>\n",
       "      <td>3.000000</td>\n",
       "      <td>326.000000</td>\n",
       "    </tr>\n",
       "    <tr>\n",
       "      <td>max</td>\n",
       "      <td>402270.000000</td>\n",
       "      <td>2.730950e+07</td>\n",
       "      <td>6409.000000</td>\n",
       "      <td>480464.000000</td>\n",
       "    </tr>\n",
       "  </tbody>\n",
       "</table>\n",
       "</div>"
      ],
      "text/plain": [
       "           New_cases  Cumulative_cases    New_deaths  Cumulative_deaths\n",
       "count   97345.000000      9.734500e+04  97345.000000       97345.000000\n",
       "mean     1116.490246      1.244781e+05     24.645364        3279.255740\n",
       "std      7519.576166      8.542595e+05    142.643087       18246.997859\n",
       "min    -32952.000000      0.000000e+00   -514.000000           0.000000\n",
       "25%         0.000000      6.000000e+00      0.000000           0.000000\n",
       "50%         3.000000      9.000000e+02      0.000000          15.000000\n",
       "75%       176.000000      1.758700e+04      3.000000         326.000000\n",
       "max    402270.000000      2.730950e+07   6409.000000      480464.000000"
      ]
     },
     "execution_count": 4,
     "metadata": {},
     "output_type": "execute_result"
    }
   ],
   "source": [
    "df.describe()"
   ]
  },
  {
   "cell_type": "code",
   "execution_count": 5,
   "metadata": {
    "scrolled": false
   },
   "outputs": [
    {
     "name": "stdout",
     "output_type": "stream",
     "text": [
      "<class 'pandas.core.frame.DataFrame'>\n",
      "RangeIndex: 97345 entries, 0 to 97344\n",
      "Data columns (total 8 columns):\n",
      "Date_reported        97345 non-null datetime64[ns]\n",
      "Country_code         96934 non-null object\n",
      "Country              97345 non-null object\n",
      "WHO_region           97345 non-null object\n",
      "New_cases            97345 non-null int64\n",
      "Cumulative_cases     97345 non-null int64\n",
      "New_deaths           97345 non-null int64\n",
      "Cumulative_deaths    97345 non-null int64\n",
      "dtypes: datetime64[ns](1), int64(4), object(3)\n",
      "memory usage: 5.9+ MB\n"
     ]
    }
   ],
   "source": [
    "### Check the column data type.\n",
    "\n",
    "df.info()"
   ]
  },
  {
   "cell_type": "code",
   "execution_count": 6,
   "metadata": {},
   "outputs": [],
   "source": [
    "### Convert the format of 'Date_reported' to dd/mm/yyyy.\n",
    "\n",
    "df['Date_reported'] = df['Date_reported'].dt.strftime(\"%d/%m/%Y\")"
   ]
  },
  {
   "cell_type": "code",
   "execution_count": 7,
   "metadata": {
    "scrolled": true
   },
   "outputs": [
    {
     "data": {
      "text/html": [
       "<div>\n",
       "<style scoped>\n",
       "    .dataframe tbody tr th:only-of-type {\n",
       "        vertical-align: middle;\n",
       "    }\n",
       "\n",
       "    .dataframe tbody tr th {\n",
       "        vertical-align: top;\n",
       "    }\n",
       "\n",
       "    .dataframe thead th {\n",
       "        text-align: right;\n",
       "    }\n",
       "</style>\n",
       "<table border=\"1\" class=\"dataframe\">\n",
       "  <thead>\n",
       "    <tr style=\"text-align: right;\">\n",
       "      <th></th>\n",
       "      <th>Date_reported</th>\n",
       "      <th>Country_code</th>\n",
       "      <th>Country</th>\n",
       "      <th>WHO_region</th>\n",
       "      <th>New_cases</th>\n",
       "      <th>Cumulative_cases</th>\n",
       "      <th>New_deaths</th>\n",
       "      <th>Cumulative_deaths</th>\n",
       "    </tr>\n",
       "  </thead>\n",
       "  <tbody>\n",
       "    <tr>\n",
       "      <td>97340</td>\n",
       "      <td>12/02/2021</td>\n",
       "      <td>ZW</td>\n",
       "      <td>Zimbabwe</td>\n",
       "      <td>AFRO</td>\n",
       "      <td>85</td>\n",
       "      <td>34949</td>\n",
       "      <td>18</td>\n",
       "      <td>1382</td>\n",
       "    </tr>\n",
       "    <tr>\n",
       "      <td>97341</td>\n",
       "      <td>13/02/2021</td>\n",
       "      <td>ZW</td>\n",
       "      <td>Zimbabwe</td>\n",
       "      <td>AFRO</td>\n",
       "      <td>96</td>\n",
       "      <td>35045</td>\n",
       "      <td>11</td>\n",
       "      <td>1393</td>\n",
       "    </tr>\n",
       "    <tr>\n",
       "      <td>97342</td>\n",
       "      <td>14/02/2021</td>\n",
       "      <td>ZW</td>\n",
       "      <td>Zimbabwe</td>\n",
       "      <td>AFRO</td>\n",
       "      <td>59</td>\n",
       "      <td>35104</td>\n",
       "      <td>5</td>\n",
       "      <td>1398</td>\n",
       "    </tr>\n",
       "    <tr>\n",
       "      <td>97343</td>\n",
       "      <td>15/02/2021</td>\n",
       "      <td>ZW</td>\n",
       "      <td>Zimbabwe</td>\n",
       "      <td>AFRO</td>\n",
       "      <td>68</td>\n",
       "      <td>35172</td>\n",
       "      <td>2</td>\n",
       "      <td>1400</td>\n",
       "    </tr>\n",
       "    <tr>\n",
       "      <td>97344</td>\n",
       "      <td>16/02/2021</td>\n",
       "      <td>ZW</td>\n",
       "      <td>Zimbabwe</td>\n",
       "      <td>AFRO</td>\n",
       "      <td>50</td>\n",
       "      <td>35222</td>\n",
       "      <td>10</td>\n",
       "      <td>1410</td>\n",
       "    </tr>\n",
       "  </tbody>\n",
       "</table>\n",
       "</div>"
      ],
      "text/plain": [
       "      Date_reported Country_code   Country WHO_region  New_cases  \\\n",
       "97340    12/02/2021           ZW  Zimbabwe       AFRO         85   \n",
       "97341    13/02/2021           ZW  Zimbabwe       AFRO         96   \n",
       "97342    14/02/2021           ZW  Zimbabwe       AFRO         59   \n",
       "97343    15/02/2021           ZW  Zimbabwe       AFRO         68   \n",
       "97344    16/02/2021           ZW  Zimbabwe       AFRO         50   \n",
       "\n",
       "       Cumulative_cases  New_deaths  Cumulative_deaths  \n",
       "97340             34949          18               1382  \n",
       "97341             35045          11               1393  \n",
       "97342             35104           5               1398  \n",
       "97343             35172           2               1400  \n",
       "97344             35222          10               1410  "
      ]
     },
     "execution_count": 7,
     "metadata": {},
     "output_type": "execute_result"
    }
   ],
   "source": [
    "### Check the last 5 records to ensure that we're getting up-to-date data.\n",
    "\n",
    "df.tail()"
   ]
  },
  {
   "cell_type": "code",
   "execution_count": 8,
   "metadata": {
    "scrolled": true
   },
   "outputs": [
    {
     "data": {
      "text/html": [
       "<div>\n",
       "<style scoped>\n",
       "    .dataframe tbody tr th:only-of-type {\n",
       "        vertical-align: middle;\n",
       "    }\n",
       "\n",
       "    .dataframe tbody tr th {\n",
       "        vertical-align: top;\n",
       "    }\n",
       "\n",
       "    .dataframe thead th {\n",
       "        text-align: right;\n",
       "    }\n",
       "</style>\n",
       "<table border=\"1\" class=\"dataframe\">\n",
       "  <thead>\n",
       "    <tr style=\"text-align: right;\">\n",
       "      <th></th>\n",
       "      <th>Date_reported</th>\n",
       "      <th>Country_code</th>\n",
       "      <th>Country</th>\n",
       "      <th>WHO_region</th>\n",
       "      <th>New_cases</th>\n",
       "      <th>Cumulative_cases</th>\n",
       "      <th>New_deaths</th>\n",
       "      <th>Cumulative_deaths</th>\n",
       "    </tr>\n",
       "  </thead>\n",
       "  <tbody>\n",
       "    <tr>\n",
       "      <td>79678</td>\n",
       "      <td>12/02/2021</td>\n",
       "      <td>SG</td>\n",
       "      <td>Singapore</td>\n",
       "      <td>WPRO</td>\n",
       "      <td>12</td>\n",
       "      <td>59759</td>\n",
       "      <td>0</td>\n",
       "      <td>29</td>\n",
       "    </tr>\n",
       "    <tr>\n",
       "      <td>79679</td>\n",
       "      <td>13/02/2021</td>\n",
       "      <td>SG</td>\n",
       "      <td>Singapore</td>\n",
       "      <td>WPRO</td>\n",
       "      <td>18</td>\n",
       "      <td>59777</td>\n",
       "      <td>0</td>\n",
       "      <td>29</td>\n",
       "    </tr>\n",
       "    <tr>\n",
       "      <td>79680</td>\n",
       "      <td>14/02/2021</td>\n",
       "      <td>SG</td>\n",
       "      <td>Singapore</td>\n",
       "      <td>WPRO</td>\n",
       "      <td>9</td>\n",
       "      <td>59786</td>\n",
       "      <td>0</td>\n",
       "      <td>29</td>\n",
       "    </tr>\n",
       "    <tr>\n",
       "      <td>79681</td>\n",
       "      <td>15/02/2021</td>\n",
       "      <td>SG</td>\n",
       "      <td>Singapore</td>\n",
       "      <td>WPRO</td>\n",
       "      <td>14</td>\n",
       "      <td>59800</td>\n",
       "      <td>0</td>\n",
       "      <td>29</td>\n",
       "    </tr>\n",
       "    <tr>\n",
       "      <td>79682</td>\n",
       "      <td>16/02/2021</td>\n",
       "      <td>SG</td>\n",
       "      <td>Singapore</td>\n",
       "      <td>WPRO</td>\n",
       "      <td>9</td>\n",
       "      <td>59809</td>\n",
       "      <td>0</td>\n",
       "      <td>29</td>\n",
       "    </tr>\n",
       "  </tbody>\n",
       "</table>\n",
       "</div>"
      ],
      "text/plain": [
       "      Date_reported Country_code    Country WHO_region  New_cases  \\\n",
       "79678    12/02/2021           SG  Singapore       WPRO         12   \n",
       "79679    13/02/2021           SG  Singapore       WPRO         18   \n",
       "79680    14/02/2021           SG  Singapore       WPRO          9   \n",
       "79681    15/02/2021           SG  Singapore       WPRO         14   \n",
       "79682    16/02/2021           SG  Singapore       WPRO          9   \n",
       "\n",
       "       Cumulative_cases  New_deaths  Cumulative_deaths  \n",
       "79678             59759           0                 29  \n",
       "79679             59777           0                 29  \n",
       "79680             59786           0                 29  \n",
       "79681             59800           0                 29  \n",
       "79682             59809           0                 29  "
      ]
     },
     "execution_count": 8,
     "metadata": {},
     "output_type": "execute_result"
    }
   ],
   "source": [
    "df[df[\"Country_code\"]==\"SG\"].tail()"
   ]
  },
  {
   "cell_type": "code",
   "execution_count": 9,
   "metadata": {},
   "outputs": [],
   "source": [
    "### Write the data from Pandas dataframe to Google Sheet.\n",
    "\n",
    "wks.set_dataframe(df, start='A1', copy_index=False, copy_head=True, fit=True, escape_formulae=False, nan=0)"
   ]
  },
  {
   "cell_type": "markdown",
   "metadata": {},
   "source": [
    "Below are the parameters for the [`set_dataframe`](https://pygsheets.readthedocs.io/en/latest/worksheet.html#pygsheets.Worksheet.set_dataframe) method for reference:\n",
    "\n",
    "\n",
    "- **df** : Pandas dataframe.\n",
    "- **start** : Address of the top left corner where the data should be added.\n",
    "- **copy_index** : Copy dataframe index (multi-index supported).\n",
    "- **copy_head** : Copy header data into the first row.\n",
    "- **fit** : Resize the worksheet to fit all data inside if necessary.\n",
    "- **escape_formulae** – Any value starting with an equal sign (=), will be prefixed with an apostrophe (‘) to avoid value being interpreted as a formula.\n",
    "- **nan** – Value with which NaN values are replaced."
   ]
  }
 ],
 "metadata": {
  "kernelspec": {
   "display_name": "Python 3",
   "language": "python",
   "name": "python3"
  },
  "language_info": {
   "codemirror_mode": {
    "name": "ipython",
    "version": 3
   },
   "file_extension": ".py",
   "mimetype": "text/x-python",
   "name": "python",
   "nbconvert_exporter": "python",
   "pygments_lexer": "ipython3",
   "version": "3.7.4"
  }
 },
 "nbformat": 4,
 "nbformat_minor": 2
}
